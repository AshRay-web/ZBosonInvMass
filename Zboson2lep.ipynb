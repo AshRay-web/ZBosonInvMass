{
 "cells": [
  {
   "cell_type": "markdown",
   "id": "cb3c1ce7-6eb0-43a3-ae70-50531d0c1b8d",
   "metadata": {},
   "source": [
    "## e e*---->Z----->mu mu*"
   ]
  },
  {
   "cell_type": "code",
   "execution_count": 24,
   "id": "ef132c5e-f895-447c-892b-b76ae2c03b6b",
   "metadata": {},
   "outputs": [],
   "source": [
    "#importing interesting libraries\n",
    "\n",
    "import uproot\n",
    "import matplotlib.pyplot as plt\n",
    "import vector\n",
    "import time\n",
    "import awkward as ak\n",
    "import infofile\n",
    "import numpy as np\n"
   ]
  },
  {
   "cell_type": "markdown",
   "id": "6a9d0643-40e7-4841-bd30-e9d872de2740",
   "metadata": {},
   "source": [
    "## Reading the Data"
   ]
  },
  {
   "cell_type": "code",
   "execution_count": 25,
   "id": "0cb90ba0-4070-4547-b5eb-c3d2dd996e71",
   "metadata": {},
   "outputs": [],
   "source": [
    "MeV = 0.001\n",
    "GeV = 1"
   ]
  },
  {
   "cell_type": "code",
   "execution_count": 26,
   "id": "24d2efb0-4762-4bb9-a695-6f86ac19cb63",
   "metadata": {},
   "outputs": [],
   "source": [
    "#defining path for the data\n",
    "path = \"https://atlas-opendata.web.cern.ch/atlas-opendata/samples/2020/2lep/\""
   ]
  },
  {
   "cell_type": "markdown",
   "id": "b7b56cac-cc40-4f7e-b3fe-a4f0a2fc2644",
   "metadata": {},
   "source": [
    "Making a dictionary so that we can make list of the necessary files and colors for the plot"
   ]
  },
  {
   "cell_type": "code",
   "execution_count": 28,
   "id": "c8c19e36-0e2c-4b6a-95f4-286aa9f9bc1d",
   "metadata": {},
   "outputs": [],
   "source": [
    "sample = {\n",
    "    'data':{\n",
    "        'list' : ['data_A','data_B','data_C','data_D'] #the Data of detector\n",
    "    },\n",
    "\n",
    "    r'Signal ($m_Z$ = 90 GeV)':{\n",
    "        'list': ['Zmumu'],\n",
    "        'color': \"#00cdff\"\n",
    "    },\n",
    "\n",
    "    'Background' :{\n",
    "        'list':['Ztautau','Zee']\n",
    "    }\n",
    "    \n",
    "}"
   ]
  },
  {
   "cell_type": "code",
   "execution_count": 29,
   "id": "70aef230-3a01-44fd-8ec1-b075107d3fc1",
   "metadata": {},
   "outputs": [],
   "source": [
    "value = sample['data']['list'][0]\n",
    "\n",
    "data_path = path+'Data/'+value+'.2lep.root'"
   ]
  },
  {
   "cell_type": "code",
   "execution_count": 30,
   "id": "e86fb96e-0208-47dd-9476-5ff35980f539",
   "metadata": {},
   "outputs": [],
   "source": [
    "#opening the file\n",
    "tree = uproot.open(data_path+\":mini\")"
   ]
  },
  {
   "cell_type": "code",
   "execution_count": 31,
   "id": "598692ff-00af-4d7e-a6b1-d0e58d28ce16",
   "metadata": {},
   "outputs": [
    {
     "name": "stdout",
     "output_type": "stream",
     "text": [
      "['runNumber', 'eventNumber', 'channelNumber', 'mcWeight', 'scaleFactor_PILEUP', 'scaleFactor_ELE', 'scaleFactor_MUON', 'scaleFactor_PHOTON', 'scaleFactor_TAU', 'scaleFactor_BTAG', 'scaleFactor_LepTRIGGER', 'scaleFactor_PhotonTRIGGER', 'trigE', 'trigM', 'trigP', 'lep_n', 'lep_truthMatched', 'lep_trigMatched', 'lep_pt', 'lep_eta', 'lep_phi', 'lep_E', 'lep_z0', 'lep_charge', 'lep_type', 'lep_isTightID', 'lep_ptcone30', 'lep_etcone20', 'lep_trackd0pvunbiased', 'lep_tracksigd0pvunbiased', 'met_et', 'met_phi', 'jet_n', 'jet_pt', 'jet_eta', 'jet_phi', 'jet_E', 'jet_jvt', 'jet_trueflav', 'jet_truthMatched', 'jet_MV2c10', 'photon_n', 'photon_truthMatched', 'photon_trigMatched', 'photon_pt', 'photon_eta', 'photon_phi', 'photon_E', 'photon_isTightID', 'photon_ptcone30', 'photon_etcone20', 'photon_convType', 'tau_n', 'tau_pt', 'tau_eta', 'tau_phi', 'tau_E', 'tau_isTightID', 'tau_truthMatched', 'tau_trigMatched', 'tau_nTracks', 'tau_BDTid', 'ditau_m', 'lep_pt_syst', 'met_et_syst', 'jet_pt_syst', 'photon_pt_syst', 'tau_pt_syst', 'XSection', 'SumWeights', 'largeRjet_n', 'largeRjet_pt', 'largeRjet_eta', 'largeRjet_phi', 'largeRjet_E', 'largeRjet_m', 'largeRjet_truthMatched', 'largeRjet_D2', 'largeRjet_tau32', 'largeRjet_pt_syst', 'tau_charge']\n"
     ]
    }
   ],
   "source": [
    "print(tree.keys())"
   ]
  },
  {
   "cell_type": "code",
   "execution_count": 32,
   "id": "b655fd93-7ca4-4857-a079-406aa4db5f36",
   "metadata": {},
   "outputs": [
    {
     "data": {
      "text/html": [
       "<pre>[{lep_type: [11, 11]},\n",
       " {lep_type: [11, 11]},\n",
       " {lep_type: [11, 11]},\n",
       " {lep_type: [11, 11]},\n",
       " {lep_type: [11, 11]},\n",
       " {lep_type: [13, 13]},\n",
       " {lep_type: [11, 11]},\n",
       " {lep_type: [13, 13]},\n",
       " {lep_type: [13, 13]},\n",
       " {lep_type: [13, 13]},\n",
       " ...,\n",
       " {lep_type: [13, 13]},\n",
       " {lep_type: [11, 11]},\n",
       " {lep_type: [13, 13]},\n",
       " {lep_type: [11, 11]},\n",
       " {lep_type: [13, 13]},\n",
       " {lep_type: [11, 11]},\n",
       " {lep_type: [13, 13]},\n",
       " {lep_type: [13, 13]},\n",
       " {lep_type: [13, 13]}]\n",
       "---------------------------------------------\n",
       "backend: cpu\n",
       "nbytes: 10.7 MB\n",
       "type: 668152 * {\n",
       "    lep_type: var * uint32\n",
       "}</pre>"
      ],
      "text/plain": [
       "<Array [{lep_type: [11, 11]}, ..., {...}] type='668152 * {lep_type: var * u...'>"
      ]
     },
     "execution_count": 32,
     "metadata": {},
     "output_type": "execute_result"
    }
   ],
   "source": [
    "tree['lep_type'].arrays(library='ak')"
   ]
  },
  {
   "cell_type": "code",
   "execution_count": 33,
   "id": "36942ddc-e4fa-4edf-9056-2f542f4a2ed1",
   "metadata": {},
   "outputs": [],
   "source": [
    "def cut_lep_type(lep_type):\n",
    "    sum_lep_type = lep_type[:,0]+lep_type[:,1] !=26\n",
    "    return sum_lep_type\n",
    "def calc_mass(lep_pt,lep_eta,lep_phi,lep_E):\n",
    "    p4 = vector.zip({'pt':lep_pt,'eta':lep_eta,'phi':lep_phi,'E':lep_E})\n",
    "    invariant_mass = (p4[:, 0] + p4[:, 1] ).M * MeV\n",
    "    return invariant_mass"
   ]
  },
  {
   "cell_type": "markdown",
   "id": "aa85b0f8-0378-47e8-bd49-4ad7fed02806",
   "metadata": {},
   "source": [
    "Making list of variables that are neccessary for us to calculate the invariant mass."
   ]
  },
  {
   "cell_type": "code",
   "execution_count": 34,
   "id": "87a6e8b7-472c-4bb3-9c39-698dd6b8d8fc",
   "metadata": {},
   "outputs": [],
   "source": [
    "variable = ['lep_pt','lep_eta','lep_phi','lep_E','lep_type']"
   ]
  },
  {
   "cell_type": "code",
   "execution_count": 35,
   "id": "8b779bc7-a767-4c43-9a01-20479d7c5c1e",
   "metadata": {},
   "outputs": [
    {
     "data": {
      "text/plain": [
       "<TBranchElement 'lep_eta' at 0x7c57a56fa090>"
      ]
     },
     "execution_count": 35,
     "metadata": {},
     "output_type": "execute_result"
    }
   ],
   "source": [
    "tree['lep_eta']"
   ]
  },
  {
   "cell_type": "code",
   "execution_count": 36,
   "id": "bf59a5e6-7152-4862-8aae-024aa147e14d",
   "metadata": {},
   "outputs": [],
   "source": [
    "sample_data=[]\n",
    "for data in tree.iterate(variable,library='ak',step_size=1000000):\n",
    "    lep_type = data['lep_type']\n",
    "    data  = data[~cut_lep_type(lep_type)]\n",
    "\n",
    "    data['mass'] = calc_mass(data['lep_pt'], data['lep_eta'], data['lep_phi'], data['lep_E'])\n",
    "\n",
    "    sample_data.append(data)\n",
    "\n",
    "data_A = ak.concatenate(sample_data)"
   ]
  },
  {
   "cell_type": "markdown",
   "id": "f8fc4fa2-e139-43e6-9623-c96b1bb22ea2",
   "metadata": {},
   "source": [
    "Now the plotting begins"
   ]
  },
  {
   "cell_type": "code",
   "execution_count": 39,
   "id": "b4ea27ae-f82b-48c1-8ae8-c01af6f5caf9",
   "metadata": {},
   "outputs": [
    {
     "data": {
      "text/plain": [
       "<matplotlib.legend.Legend at 0x7c57a5498c50>"
      ]
     },
     "execution_count": 39,
     "metadata": {},
     "output_type": "execute_result"
    },
    {
     "data": {
      "image/png": "[encoded data removed]",
      "text/plain": [
       "<Figure size 640x480 with 1 Axes>"
      ]
     },
     "metadata": {},
     "output_type": "display_data"
    }
   ],
   "source": [
    "xmin = 50*GeV\n",
    "xmax = 150 *GeV\n",
    "\n",
    "#Histogram Data setup step_size,bin_edges,bin_centers\n",
    "step_size = 5*GeV\n",
    "bin_edges = np.arange(start=xmin , stop=xmax+step_size,step=step_size)\n",
    "bin_centers = np.arange(start=xmin+step_size/2 ,stop = xmax+step_size/2,step=step_size)\n",
    "\n",
    "\n",
    "data_x,_ = np.histogram(ak.to_numpy(data['mass']),bins=bin_edges)\n",
    "data_x_errors = np.sqrt(data_x)\n",
    "#errorbar\n",
    "\n",
    "main_axes = plt.gca()\n",
    "\n",
    "main_axes.errorbar(x=bin_centers,y=data_x,yerr=data_x_errors,\n",
    "                  fmt='ko',label='Data')\n",
    "\n",
    "\n",
    "##beautifying\n",
    "main_axes.set_xlim(left=xmin,right=xmax)\n",
    "\n",
    "main_axes.tick_params(which= 'both',direction='in',top=True,right=True)\n",
    "\n",
    "main_axes.legend(frameon=False)\n",
    "\n",
    "\n",
    "\n"
   ]
  },
  {
   "cell_type": "markdown",
   "id": "6a79c7e4-ad5b-4209-90aa-bedf4a560ee7",
   "metadata": {},
   "source": [
    "## Monte Carlo Data "
   ]
  },
  {
   "cell_type": "markdown",
   "id": "a91ab06f-3785-4efb-b77d-58aceb6bd83e",
   "metadata": {},
   "source": [
    "We will here now work on getting the monte carlo data."
   ]
  },
  {
   "cell_type": "code",
   "execution_count": null,
   "id": "f62ad880-ae38-447a-82ae-6f88777c50a3",
   "metadata": {},
   "outputs": [],
   "source": []
  }
 ],
 "metadata": {
  "kernelspec": {
   "display_name": "Python 3 (ipykernel)",
   "language": "python",
   "name": "python3"
  },
  "language_info": {
   "codemirror_mode": {
    "name": "ipython",
    "version": 3
   },
   "file_extension": ".py",
   "mimetype": "text/x-python",
   "name": "python",
   "nbconvert_exporter": "python",
   "pygments_lexer": "ipython3",
   "version": "3.12.7"
  }
 },
 "nbformat": 4,
 "nbformat_minor": 5
}
